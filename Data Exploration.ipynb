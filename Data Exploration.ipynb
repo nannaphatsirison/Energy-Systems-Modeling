{
  "nbformat": 4,
  "nbformat_minor": 0,
  "metadata": {
    "colab": {
      "name": "Assignment 4 (Q1).ipynb",
      "provenance": [],
      "collapsed_sections": [],
      "authorship_tag": "ABX9TyPdlACQg3XtHiPCIM2/eQnt",
      "include_colab_link": true
    },
    "kernelspec": {
      "name": "python3",
      "display_name": "Python 3"
    },
    "language_info": {
      "name": "python"
    }
  },
  "cells": [
    {
      "cell_type": "markdown",
      "metadata": {
        "id": "view-in-github",
        "colab_type": "text"
      },
      "source": [
        "<a href=\"https://colab.research.google.com/github/nannaphatsirison/nannaphatsirison/blob/main/Data%20Exploration.ipynb\" target=\"_parent\"><img src=\"https://colab.research.google.com/assets/colab-badge.svg\" alt=\"Open In Colab\"/></a>"
      ]
    },
    {
      "cell_type": "markdown",
      "metadata": {
        "id": "4vO5Da7lm70e"
      },
      "source": [
        "**Problem Set Up** \\\\\n",
        "1) Extract information on China’s coal-fired power plants using a provided excel file(“China Power plant information-from end coal.xls”) \\\\\n",
        "2) Create pivot tables that show the following information about operating units in the chosen Chinese province:(a) The number of units (b) The capacity of the smallest unit by generation capacity (c) The capacity of the largest unit by generation capacity (d) the total generation capacity\\\\\n",
        "\n",
        "**OBJECTIVE** \\\\\n",
        "1) Create a code that allows a user to select one province of China among all provinces, and then shows the following information required \\\\\n",
        "2) Refine code to allow the user to also specify in addition of the province, the operational status of the units. The user should be able to select any possible status (e.g.,Operating, Shelved, Cancelled, etc..) and province, and then get for those units that meet the criteria the same set of information as outlined above from (a-d) \\\\\n",
        "3) Repeat this problem responding all questions for PLANTS instead of UNITS\n"
      ]
    },
    {
      "cell_type": "code",
      "metadata": {
        "colab": {
          "base_uri": "https://localhost:8080/"
        },
        "id": "p_lHP41xm-8w",
        "outputId": "9c253cb0-01d6-42c3-e090-4b12b152117c"
      },
      "source": [
        "from google.colab import drive\n",
        "drive.mount('/content/drive')"
      ],
      "execution_count": 1,
      "outputs": [
        {
          "output_type": "stream",
          "name": "stdout",
          "text": [
            "Mounted at /content/drive\n"
          ]
        }
      ]
    },
    {
      "cell_type": "code",
      "metadata": {
        "id": "N6_mOr5UBX1V"
      },
      "source": [
        "import os\n",
        "os.chdir('/content/drive/MyDrive/Colab Notebooks/716')"
      ],
      "execution_count": 2,
      "outputs": []
    },
    {
      "cell_type": "code",
      "metadata": {
        "id": "Aj9kIkt3BZTP"
      },
      "source": [
        "import pandas as pd\n",
        "import numpy as np"
      ],
      "execution_count": 3,
      "outputs": []
    },
    {
      "cell_type": "code",
      "metadata": {
        "id": "Pe72QRvBBfIh"
      },
      "source": [
        "dfChina = pd.read_excel(\"ChinaPowerPlant.xlsx\", sheet_name= None)"
      ],
      "execution_count": 4,
      "outputs": []
    },
    {
      "cell_type": "code",
      "metadata": {
        "id": "gnEr1-skCH_T"
      },
      "source": [
        "#OBJECTIVE 1\n",
        "# Users can select one province\n",
        "# Only looks at operating units \n",
        "# Output: number of units, capacity of smallest unit by generation capacity, capacity of largest unit by generation capacity, total generation capacity\n",
        "\n",
        "def ChinaPlantInfoProvince (ProvinceName):\n",
        "  \n",
        "  dfChinaProvince = pd.read_excel(\"ChinaPowerPlant.xlsx\", sheet_name = ProvinceName)\n",
        "  dfChinaProvinceOperating = dfChinaProvince[(dfChinaProvince.Status==\"operating\")]\n",
        "  NumberofUnits= dfChinaProvinceOperating [\"Unit\"].count()\n",
        "  SmallestCap = dfChinaProvinceOperating [\"Capacity (MW)\"].min()\n",
        "  LargestCap = dfChinaProvinceOperating[\"Capacity (MW)\"].max()\n",
        "  TotalCap = dfChinaProvinceOperating[\"Capacity (MW)\"].sum()\n",
        "\n",
        "  return print(\"Total number of Units = \",NumberofUnits,\n",
        "               \"Smallest Unit Capacity (MW) =\",SmallestCap, \n",
        "               \"Largest Unit Capacity (MW)=\",LargestCap, \n",
        "               \"Total Capacity (MW) =\",TotalCap)\n"
      ],
      "execution_count": 5,
      "outputs": []
    },
    {
      "cell_type": "code",
      "metadata": {
        "colab": {
          "base_uri": "https://localhost:8080/"
        },
        "id": "8AIvDaMvFufZ",
        "outputId": "4ccdd458-2e40-4b8a-b3dd-8abd9e964d9e"
      },
      "source": [
        "ChinaPlantInfoProvince(\"Jilin\")"
      ],
      "execution_count": 6,
      "outputs": [
        {
          "output_type": "stream",
          "name": "stdout",
          "text": [
            "Total number of Units =  66 Smallest Unit Capacity (MW) = 30 Largest Unit Capacity (MW)= 670 Total Capacity (MW) = 16096\n"
          ]
        }
      ]
    },
    {
      "cell_type": "code",
      "metadata": {
        "id": "-EcBF7XyK_gB"
      },
      "source": [
        "Status = {\n",
        "    \"Operating\": \"operating\",\n",
        "    \"operating\": \"operating\",\n",
        "    \"OPERATING\": \"operating\",\n",
        "    \"Retired\": \"retired\",\n",
        "    \"RETIRED\": \"retired\",\n",
        "    \"retired\": \"retired\",\n",
        "    \"Shelved\": \"shelved\",\n",
        "    \"SHELVED\": \"shelved\",\n",
        "    \"shelved\": \"shelved\",\n",
        "    \"Pre-permit\": \"pre-permit\",\n",
        "    \"PRE-PERMIT\": \"pre-permit\",\n",
        "    \"pre-permit\": \"pre-permit\",\n",
        "    \"Retiring\": \"retiring\",\n",
        "    \"RETIRING\": \"retiring\",\n",
        "    \"retiring\": \"retiring\",\n",
        "    \"Announced\": \"announced\",\n",
        "    \"ANNOUNCED\": \"announced\",\n",
        "    \"announced\": \"announced\",\n",
        "    \"Cancelled\": \"cancelled\",\n",
        "    \"CANCELLED\": \"cancelled\",\n",
        "    \"cancelled\": \"cancelled\",\n",
        "    \"Construction\": \"construction\",\n",
        "    \"CONSTRUCTION\": \"construction\",\n",
        "    \"construction\": \"construction\",\n",
        "}"
      ],
      "execution_count": 7,
      "outputs": []
    },
    {
      "cell_type": "code",
      "metadata": {
        "id": "ea6GzMsnJ8he"
      },
      "source": [
        "#OBJECTIVE 2\n",
        "# Users can select one province\n",
        "# Users can select status of units\n",
        "# Output: number of units, capacity of smallest unit by generation capacity, capacity of largest unit by generation capacity, total generation capacity\n",
        "\n",
        "def ChinaPlantInfoProvinceandStatus (ProvinceNameB, PlantStatus):\n",
        "  PlantStatus = Status[PlantStatus]\n",
        "  dfChinaProvinceB = pd.read_excel(\"ChinaPowerPlant.xlsx\", sheet_name = ProvinceNameB)\n",
        "  dfChinaProvinceandStatus = dfChinaProvinceB[(dfChinaProvinceB.Status == PlantStatus)]\n",
        "  NumberofUnitsB = dfChinaProvinceandStatus[\"Capacity (MW)\"].count()\n",
        "  SmallestCapB= dfChinaProvinceandStatus[\"Capacity (MW)\"].min()\n",
        "  LargestCapB= dfChinaProvinceandStatus[\"Capacity (MW)\"].max()\n",
        "  TotalCapB = dfChinaProvinceandStatus[\"Capacity (MW)\"].sum()\n",
        "\n",
        "  return print(\"Total number of Units = \",NumberofUnitsB,\n",
        "               \"Smallest Unit Capacity (MW) =\",SmallestCapB, \n",
        "               \"Largest Unit Capacity (MW)=\",LargestCapB, \n",
        "               \"Total Capacity (MW) =\",TotalCapB)\n"
      ],
      "execution_count": 8,
      "outputs": []
    },
    {
      "cell_type": "code",
      "metadata": {
        "colab": {
          "base_uri": "https://localhost:8080/"
        },
        "id": "rBOjonYbKR79",
        "outputId": "1ebdf35b-0eb7-4b17-8f8c-fa9028bbf543"
      },
      "source": [
        "ChinaPlantInfoProvinceandStatus (\"Shanxi\", \"SHELVED\")"
      ],
      "execution_count": 9,
      "outputs": [
        {
          "output_type": "stream",
          "name": "stdout",
          "text": [
            "Total number of Units =  66 Smallest Unit Capacity (MW) = 350 Largest Unit Capacity (MW)= 1000 Total Capacity (MW) = 39400\n"
          ]
        }
      ]
    },
    {
      "cell_type": "code",
      "metadata": {
        "id": "IP49uscHoqSK"
      },
      "source": [
        "#OBJECTIVE 4\n",
        "# Users select province\n",
        "# Looking only at operating units\n",
        "# Summarizing information by plant and not by unit \n",
        "# Input: Province name  \n",
        "# Output: Number of units, smallest and largest cap, for each of plants in the province\n",
        "\n",
        "def ProvincePlant (ProvinceName): \n",
        "\n",
        "  dfChinaProvince = pd.read_excel(\"ChinaPowerPlant.xlsx\", sheet_name = ProvinceName)\n",
        "  dfChinaProvinceOp = dfChinaProvince[(dfChinaProvince.Status == \"operating\")]\n",
        "  PlantName = np.unique(dfChinaProvinceOp[\"Plant\"]).tolist()\n",
        "  NumUnits = dfChinaProvinceOp.groupby(\"Plant\")[\"Unit\"].count()\n",
        "  SmallestCap = dfChinaProvinceOp.groupby(\"Plant\") [\"Capacity (MW)\"].min()\n",
        "  LargestCap = dfChinaProvinceOp.groupby(\"Plant\") [\"Capacity (MW)\"].max()\n",
        "\n",
        "\n",
        "  table = pd.DataFrame(list(zip(PlantName, NumUnits, SmallestCap, LargestCap)),\n",
        "                       columns=['Plant Name', 'Number of Units', 'Smallest Unit Capacity (MW)', 'Largest Unit Capacity (MW)'])\n",
        "\n",
        "  return table"
      ],
      "execution_count": 10,
      "outputs": []
    },
    {
      "cell_type": "code",
      "metadata": {
        "colab": {
          "base_uri": "https://localhost:8080/",
          "height": 855
        },
        "id": "sQYbp4RRou5F",
        "outputId": "51da94c8-6e61-40ea-ab22-4ab38050addc"
      },
      "source": [
        "ProvincePlant(\"Jilin\")"
      ],
      "execution_count": 11,
      "outputs": [
        {
          "output_type": "execute_result",
          "data": {
            "text/html": [
              "<div>\n",
              "<style scoped>\n",
              "    .dataframe tbody tr th:only-of-type {\n",
              "        vertical-align: middle;\n",
              "    }\n",
              "\n",
              "    .dataframe tbody tr th {\n",
              "        vertical-align: top;\n",
              "    }\n",
              "\n",
              "    .dataframe thead th {\n",
              "        text-align: right;\n",
              "    }\n",
              "</style>\n",
              "<table border=\"1\" class=\"dataframe\">\n",
              "  <thead>\n",
              "    <tr style=\"text-align: right;\">\n",
              "      <th></th>\n",
              "      <th>Plant Name</th>\n",
              "      <th>Number of Units</th>\n",
              "      <th>Smallest Unit Capacity (MW)</th>\n",
              "      <th>Largest Unit Capacity (MW)</th>\n",
              "    </tr>\n",
              "  </thead>\n",
              "  <tbody>\n",
              "    <tr>\n",
              "      <th>0</th>\n",
              "      <td>CPI Baicheng power station</td>\n",
              "      <td>2</td>\n",
              "      <td>660</td>\n",
              "      <td>660</td>\n",
              "    </tr>\n",
              "    <tr>\n",
              "      <th>1</th>\n",
              "      <td>Changchun Southeast power station</td>\n",
              "      <td>1</td>\n",
              "      <td>350</td>\n",
              "      <td>350</td>\n",
              "    </tr>\n",
              "    <tr>\n",
              "      <th>2</th>\n",
              "      <td>Changchun-2 power station</td>\n",
              "      <td>6</td>\n",
              "      <td>200</td>\n",
              "      <td>220</td>\n",
              "    </tr>\n",
              "    <tr>\n",
              "      <th>3</th>\n",
              "      <td>Changchun-3 power station</td>\n",
              "      <td>2</td>\n",
              "      <td>300</td>\n",
              "      <td>300</td>\n",
              "    </tr>\n",
              "    <tr>\n",
              "      <th>4</th>\n",
              "      <td>Datang Changshan power station</td>\n",
              "      <td>1</td>\n",
              "      <td>660</td>\n",
              "      <td>660</td>\n",
              "    </tr>\n",
              "    <tr>\n",
              "      <th>5</th>\n",
              "      <td>Datang Hunchun power station</td>\n",
              "      <td>2</td>\n",
              "      <td>330</td>\n",
              "      <td>330</td>\n",
              "    </tr>\n",
              "    <tr>\n",
              "      <th>6</th>\n",
              "      <td>Erdaojiang power station</td>\n",
              "      <td>4</td>\n",
              "      <td>100</td>\n",
              "      <td>200</td>\n",
              "    </tr>\n",
              "    <tr>\n",
              "      <th>7</th>\n",
              "      <td>Fanjiatun Kaixuan Cogen power station</td>\n",
              "      <td>2</td>\n",
              "      <td>30</td>\n",
              "      <td>30</td>\n",
              "    </tr>\n",
              "    <tr>\n",
              "      <th>8</th>\n",
              "      <td>Guodian Changchun power station</td>\n",
              "      <td>2</td>\n",
              "      <td>350</td>\n",
              "      <td>350</td>\n",
              "    </tr>\n",
              "    <tr>\n",
              "      <th>9</th>\n",
              "      <td>Guodian Jiangnan power station</td>\n",
              "      <td>2</td>\n",
              "      <td>330</td>\n",
              "      <td>330</td>\n",
              "    </tr>\n",
              "    <tr>\n",
              "      <th>10</th>\n",
              "      <td>Guodian Jilin power station</td>\n",
              "      <td>4</td>\n",
              "      <td>125</td>\n",
              "      <td>200</td>\n",
              "    </tr>\n",
              "    <tr>\n",
              "      <th>11</th>\n",
              "      <td>Hongyuan Waste Coal Cogen power station</td>\n",
              "      <td>2</td>\n",
              "      <td>30</td>\n",
              "      <td>30</td>\n",
              "    </tr>\n",
              "    <tr>\n",
              "      <th>12</th>\n",
              "      <td>Huaneng Baishan power station</td>\n",
              "      <td>2</td>\n",
              "      <td>330</td>\n",
              "      <td>330</td>\n",
              "    </tr>\n",
              "    <tr>\n",
              "      <th>13</th>\n",
              "      <td>Huaneng Changchun power station</td>\n",
              "      <td>2</td>\n",
              "      <td>350</td>\n",
              "      <td>350</td>\n",
              "    </tr>\n",
              "    <tr>\n",
              "      <th>14</th>\n",
              "      <td>Huaneng Jiutai power station</td>\n",
              "      <td>2</td>\n",
              "      <td>670</td>\n",
              "      <td>670</td>\n",
              "    </tr>\n",
              "    <tr>\n",
              "      <th>15</th>\n",
              "      <td>Hunjiang power station</td>\n",
              "      <td>3</td>\n",
              "      <td>215</td>\n",
              "      <td>300</td>\n",
              "    </tr>\n",
              "    <tr>\n",
              "      <th>16</th>\n",
              "      <td>Jilin City Works power station</td>\n",
              "      <td>2</td>\n",
              "      <td>50</td>\n",
              "      <td>50</td>\n",
              "    </tr>\n",
              "    <tr>\n",
              "      <th>17</th>\n",
              "      <td>Jilin Dongguan power station</td>\n",
              "      <td>1</td>\n",
              "      <td>50</td>\n",
              "      <td>50</td>\n",
              "    </tr>\n",
              "    <tr>\n",
              "      <th>18</th>\n",
              "      <td>Jilin Ethanol power station</td>\n",
              "      <td>1</td>\n",
              "      <td>31</td>\n",
              "      <td>31</td>\n",
              "    </tr>\n",
              "    <tr>\n",
              "      <th>19</th>\n",
              "      <td>Liaoyuan Datang power station</td>\n",
              "      <td>2</td>\n",
              "      <td>330</td>\n",
              "      <td>330</td>\n",
              "    </tr>\n",
              "    <tr>\n",
              "      <th>20</th>\n",
              "      <td>Longhua Baicheng power station</td>\n",
              "      <td>2</td>\n",
              "      <td>200</td>\n",
              "      <td>200</td>\n",
              "    </tr>\n",
              "    <tr>\n",
              "      <th>21</th>\n",
              "      <td>Longhua Yanji power station</td>\n",
              "      <td>2</td>\n",
              "      <td>200</td>\n",
              "      <td>200</td>\n",
              "    </tr>\n",
              "    <tr>\n",
              "      <th>22</th>\n",
              "      <td>Longsheng Cogen power station</td>\n",
              "      <td>2</td>\n",
              "      <td>30</td>\n",
              "      <td>30</td>\n",
              "    </tr>\n",
              "    <tr>\n",
              "      <th>23</th>\n",
              "      <td>Shuangliao West power station</td>\n",
              "      <td>5</td>\n",
              "      <td>350</td>\n",
              "      <td>660</td>\n",
              "    </tr>\n",
              "    <tr>\n",
              "      <th>24</th>\n",
              "      <td>Siping power station</td>\n",
              "      <td>4</td>\n",
              "      <td>50</td>\n",
              "      <td>350</td>\n",
              "    </tr>\n",
              "    <tr>\n",
              "      <th>25</th>\n",
              "      <td>Songhuajiang power station</td>\n",
              "      <td>6</td>\n",
              "      <td>40</td>\n",
              "      <td>350</td>\n",
              "    </tr>\n",
              "  </tbody>\n",
              "</table>\n",
              "</div>"
            ],
            "text/plain": [
              "                                 Plant Name  ...  Largest Unit Capacity (MW)\n",
              "0                CPI Baicheng power station  ...                         660\n",
              "1         Changchun Southeast power station  ...                         350\n",
              "2                 Changchun-2 power station  ...                         220\n",
              "3                 Changchun-3 power station  ...                         300\n",
              "4            Datang Changshan power station  ...                         660\n",
              "5              Datang Hunchun power station  ...                         330\n",
              "6                  Erdaojiang power station  ...                         200\n",
              "7     Fanjiatun Kaixuan Cogen power station  ...                          30\n",
              "8           Guodian Changchun power station  ...                         350\n",
              "9            Guodian Jiangnan power station  ...                         330\n",
              "10              Guodian Jilin power station  ...                         200\n",
              "11  Hongyuan Waste Coal Cogen power station  ...                          30\n",
              "12            Huaneng Baishan power station  ...                         330\n",
              "13          Huaneng Changchun power station  ...                         350\n",
              "14             Huaneng Jiutai power station  ...                         670\n",
              "15                   Hunjiang power station  ...                         300\n",
              "16           Jilin City Works power station  ...                          50\n",
              "17             Jilin Dongguan power station  ...                          50\n",
              "18              Jilin Ethanol power station  ...                          31\n",
              "19            Liaoyuan Datang power station  ...                         330\n",
              "20           Longhua Baicheng power station  ...                         200\n",
              "21              Longhua Yanji power station  ...                         200\n",
              "22            Longsheng Cogen power station  ...                          30\n",
              "23            Shuangliao West power station  ...                         660\n",
              "24                     Siping power station  ...                         350\n",
              "25               Songhuajiang power station  ...                         350\n",
              "\n",
              "[26 rows x 4 columns]"
            ]
          },
          "metadata": {},
          "execution_count": 11
        }
      ]
    }
  ]
}