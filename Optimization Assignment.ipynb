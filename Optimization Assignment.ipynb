{
  "nbformat": 4,
  "nbformat_minor": 0,
  "metadata": {
    "colab": {
      "name": "A6.ipynb",
      "provenance": [],
      "authorship_tag": "ABX9TyN4YnJjNNohxghJRt8N8Y9D",
      "include_colab_link": true
    },
    "kernelspec": {
      "name": "python3",
      "display_name": "Python 3"
    },
    "language_info": {
      "name": "python"
    }
  },
  "cells": [
    {
      "cell_type": "markdown",
      "metadata": {
        "id": "view-in-github",
        "colab_type": "text"
      },
      "source": [
        "<a href=\"https://colab.research.google.com/github/nannaphatsirison/nannaphatsirison/blob/main/Optimization%20Assignment.ipynb\" target=\"_parent\"><img src=\"https://colab.research.google.com/assets/colab-badge.svg\" alt=\"Open In Colab\"/></a>"
      ]
    },
    {
      "cell_type": "markdown",
      "metadata": {
        "id": "mMY_SfjJvTVO"
      },
      "source": [
        "**Set up of the problem**\n",
        "\n",
        "1) A refinery produces three grades of gasoline using variable combinations of three types of crude oil as feed-stocks. \\\\\n",
        "2) There is a conversion cost of $4 dollars to turn on barrel of crude into one barrel of gasoline. \\\\\n",
        "3)The refinery has to meet the daily demand of each gasoline type but is also limited in the total number of gasoline barrels it can produce daily \\\\\n",
        "4) Each type of gasoline has minimum octane limits as well as maximum sulfur content limits. \\\\\n",
        "5) The refinery also has the option to market is products through an advertising campaign that can increase daily demand for each gasoline type. \\\\\n",
        "\n",
        "**Objective:** Build an optimization model that maximizes profits of the refinery and helps the refinery decide how much it should spend on advertising to increase demand.\n"
      ]
    },
    {
      "cell_type": "code",
      "metadata": {
        "colab": {
          "base_uri": "https://localhost:8080/"
        },
        "id": "oEjCSZOJSnl8",
        "outputId": "1e5bb95b-cadb-4210-ffd5-5ae3294e67cb"
      },
      "source": [
        "from google.colab import drive\n",
        "drive.mount('/content/drive')"
      ],
      "execution_count": null,
      "outputs": [
        {
          "output_type": "stream",
          "name": "stdout",
          "text": [
            "Drive already mounted at /content/drive; to attempt to forcibly remount, call drive.mount(\"/content/drive\", force_remount=True).\n"
          ]
        }
      ]
    },
    {
      "cell_type": "code",
      "metadata": {
        "id": "kUBcoRJmSo5Q"
      },
      "source": [
        "import os\n",
        "os.chdir('/content/drive/MyDrive/Colab Notebooks/')"
      ],
      "execution_count": null,
      "outputs": []
    },
    {
      "cell_type": "code",
      "metadata": {
        "colab": {
          "base_uri": "https://localhost:8080/"
        },
        "id": "R5cgkZzzSqUT",
        "outputId": "8cecef69-74cb-4ce8-b49c-de547f387301"
      },
      "source": [
        "!pip install pyomo\n",
        "!apt-get install -y -qq glpk-utils"
      ],
      "execution_count": null,
      "outputs": [
        {
          "output_type": "stream",
          "name": "stdout",
          "text": [
            "Requirement already satisfied: pyomo in /usr/local/lib/python3.7/dist-packages (6.1.2)\n",
            "Requirement already satisfied: ply in /usr/local/lib/python3.7/dist-packages (from pyomo) (3.11)\n"
          ]
        }
      ]
    },
    {
      "cell_type": "code",
      "metadata": {
        "id": "H_WO4yzXSr-i"
      },
      "source": [
        "from pyomo.environ import *\n",
        "#Import solver\n",
        "opt=SolverFactory('glpk')"
      ],
      "execution_count": null,
      "outputs": []
    },
    {
      "cell_type": "code",
      "metadata": {
        "id": "wJtpFgUQSzuz"
      },
      "source": [
        "#Initialize Model\n",
        "model=ConcreteModel()\n",
        "\n",
        "#Defining Sets\n",
        "model.G=Set(initialize=['G1','G2','G3'])  #set of gasoline types running from 1 to 3\n",
        "model.C=Set(initialize=['C1','C2','C3'])  #set of crude types running from 1 to 3\n",
        "\n",
        "#Defining Parameters\n",
        "model.P=Param(model.C,initialize={'C1':70,'C2':62,'C3':57})        #purchase price for each crude type\n",
        "model.S=Param(model.G,initialize={'G1':79,'G2':73,'G3':68})        #sale price for each gasoline type\n",
        "\n",
        "model.D=Param(model.G,initialize={'G1':2200,'G2':3750,'G3':4200})  #forecasted demand for each gasoline type\n",
        "model.E=Param(model.C,initialize={'C1':3500,'C2':5000,'C3':6000})  #purchase limit for each crude type \n",
        "\n",
        "model.H=Param(model.G,initialize={'G1':91,'G2':89,'G3':87})        #minimum octane rating for each gasoline type\n",
        "model.J=Param(model.C,initialize={'C1':93,'C2':89,'C3':85})        #octane rating for each crude type\n",
        "\n",
        "model.K=Param(model.G,initialize={'G1':0.8,'G2':1.4,'G3':1.8})        #maximum sulfur content for each gasoline type (%)\n",
        "model.M=Param(model.C,initialize={'C1':0.5,'C2':1.7,'C3':2.1})        #sulfure content for each crude type (%)\n",
        "\n",
        "#Add dec variables\n",
        "model.X=Var(model.G,model.C,domain=NonNegativeReals)            # number of barrels of crude type c converted to gasoline type g\n",
        "model.Y=Var(model.G, domain = NonNegativeReals)                 # how much money ($) is spent towards advertising for gasoline type g"
      ],
      "execution_count": null,
      "outputs": []
    },
    {
      "cell_type": "code",
      "metadata": {
        "colab": {
          "base_uri": "https://localhost:8080/"
        },
        "id": "HXiDq5CAVHaJ",
        "outputId": "c10f7b0f-96f4-4547-b64a-acf4be203a31"
      },
      "source": [
        "#Add obj func\n",
        "def obj_profit(model):\n",
        "    return sum(sum((model.S[g]-model.P[c]-4)*model.X[g,c]for g in model.G) for c in model.C) -(sum(1*model.Y[g] for g in model.G))\n",
        "model.profit=Objective(sense=maximize,rule=obj_profit)\n",
        "\n",
        "#Checking objetive function\n",
        "print(model.profit.expr)"
      ],
      "execution_count": null,
      "outputs": [
        {
          "output_type": "stream",
          "name": "stdout",
          "text": [
            "WARNING: Implicitly replacing the Component attribute profit (type=<class\n",
            "    'pyomo.core.base.objective.ScalarObjective'>) on block unknown with a new\n",
            "    Component (type=<class 'pyomo.core.base.objective.ScalarObjective'>). This\n",
            "    is usually indicative of a modelling error. To avoid this warning, use\n",
            "    block.del_component() and block.add_component().\n",
            "5*X[G1,C1] - X[G2,C1] - 6*X[G3,C1] + 13*X[G1,C2] + 7*X[G2,C2] + 2*X[G3,C2] + 18*X[G1,C3] + 12*X[G2,C3] + 7*X[G3,C3] - (Y[G1] + Y[G2] + Y[G3])\n"
          ]
        }
      ]
    },
    {
      "cell_type": "code",
      "metadata": {
        "colab": {
          "base_uri": "https://localhost:8080/"
        },
        "id": "kiuXcrXp7GRu",
        "outputId": "90e043dc-0488-4ed7-f61e-df6892b7a57a"
      },
      "source": [
        "#market demand constraint for all gasoline types\n",
        "def meet_demand(model,g):\n",
        "    return sum(model.X[g,c] for c in model.C) == model.D[g] + 10*model.Y[g]\n",
        "model.demand=Constraint(model.G,rule=meet_demand)\n",
        "\n",
        "#Checking added constraints\n",
        "for g in model.G:\n",
        "    print(model.demand[g].expr)\n"
      ],
      "execution_count": null,
      "outputs": [
        {
          "output_type": "stream",
          "name": "stdout",
          "text": [
            "WARNING: Implicitly replacing the Component attribute demand (type=<class\n",
            "    'pyomo.core.base.constraint.IndexedConstraint'>) on block unknown with a\n",
            "    new Component (type=<class\n",
            "    'pyomo.core.base.constraint.IndexedConstraint'>). This is usually\n",
            "    indicative of a modelling error. To avoid this warning, use\n",
            "    block.del_component() and block.add_component().\n",
            "X[G1,C1] + X[G1,C2] + X[G1,C3]  ==  2200 + 10*Y[G1]\n",
            "X[G2,C1] + X[G2,C2] + X[G2,C3]  ==  3750 + 10*Y[G2]\n",
            "X[G3,C1] + X[G3,C2] + X[G3,C3]  ==  4200 + 10*Y[G3]\n"
          ]
        }
      ]
    },
    {
      "cell_type": "code",
      "metadata": {
        "colab": {
          "base_uri": "https://localhost:8080/"
        },
        "id": "Yp9iEywB8A98",
        "outputId": "82a63117-5217-4376-82fc-dccc4f3ef780"
      },
      "source": [
        "# crude purchase limits for all crude types\n",
        "def purchase_limit(model,c):\n",
        "    return sum(model.X[g,c] for g in model.G) <= model.E[c]\n",
        "model.purchaselim=Constraint(model.C,rule=purchase_limit)\n",
        "\n",
        "#Checking added constraints\n",
        "for c in model.C:\n",
        "    print(model.purchaselim[c].expr)\n"
      ],
      "execution_count": null,
      "outputs": [
        {
          "output_type": "stream",
          "name": "stdout",
          "text": [
            "WARNING: Implicitly replacing the Component attribute purchaselim (type=<class\n",
            "    'pyomo.core.base.constraint.IndexedConstraint'>) on block unknown with a\n",
            "    new Component (type=<class\n",
            "    'pyomo.core.base.constraint.IndexedConstraint'>). This is usually\n",
            "    indicative of a modelling error. To avoid this warning, use\n",
            "    block.del_component() and block.add_component().\n",
            "X[G1,C1] + X[G2,C1] + X[G3,C1]  <=  3500\n",
            "X[G1,C2] + X[G2,C2] + X[G3,C2]  <=  5000\n",
            "X[G1,C3] + X[G2,C3] + X[G3,C3]  <=  6000\n"
          ]
        }
      ]
    },
    {
      "cell_type": "code",
      "metadata": {
        "colab": {
          "base_uri": "https://localhost:8080/"
        },
        "id": "Ta7kPyGc9YJR",
        "outputId": "1aed99f9-94b0-4fe0-8752-ba6ad8eea598"
      },
      "source": [
        "# gasoline octane constraint\n",
        "def octane_min(model,g):\n",
        "    return sum(model.J[c]*model.X[g,c] for c in model.C) >= model.H[g]*sum(model.X[g,c] for c in model.C)\n",
        "model.octanegasoline=Constraint(model.G,rule=octane_min)\n",
        "\n",
        "#Checking added constraints\n",
        "for g in model.G:\n",
        "    print(model.octanegasoline[g].expr)\n"
      ],
      "execution_count": null,
      "outputs": [
        {
          "output_type": "stream",
          "name": "stdout",
          "text": [
            "WARNING: Implicitly replacing the Component attribute octanegasoline\n",
            "    (type=<class 'pyomo.core.base.constraint.IndexedConstraint'>) on block\n",
            "    unknown with a new Component (type=<class\n",
            "    'pyomo.core.base.constraint.IndexedConstraint'>). This is usually\n",
            "    indicative of a modelling error. To avoid this warning, use\n",
            "    block.del_component() and block.add_component().\n",
            "91*(X[G1,C1] + X[G1,C2] + X[G1,C3])  <=  93*X[G1,C1] + 89*X[G1,C2] + 85*X[G1,C3]\n",
            "89*(X[G2,C1] + X[G2,C2] + X[G2,C3])  <=  93*X[G2,C1] + 89*X[G2,C2] + 85*X[G2,C3]\n",
            "87*(X[G3,C1] + X[G3,C2] + X[G3,C3])  <=  93*X[G3,C1] + 89*X[G3,C2] + 85*X[G3,C3]\n"
          ]
        }
      ]
    },
    {
      "cell_type": "code",
      "metadata": {
        "id": "Ca4Uh2gz9wfQ",
        "colab": {
          "base_uri": "https://localhost:8080/"
        },
        "outputId": "c4602cb1-d423-4c20-eb0d-d27bc8313c5f"
      },
      "source": [
        "# sulfur content constraint\n",
        "def octane_max(model,g):\n",
        "    return sum(model.M[c]*model.X[g,c] for c in model.C) <= model.K[g]*sum(model.X[g,c] for c in model.C)\n",
        "model.octanegasoline=Constraint(model.G,rule=octane_max)\n",
        "\n",
        "#Checking added constraints\n",
        "for g in model.G:\n",
        "    print(model.octanegasoline[g].expr)\n"
      ],
      "execution_count": null,
      "outputs": [
        {
          "output_type": "stream",
          "name": "stdout",
          "text": [
            "WARNING: Implicitly replacing the Component attribute octanegasoline\n",
            "    (type=<class 'pyomo.core.base.constraint.IndexedConstraint'>) on block\n",
            "    unknown with a new Component (type=<class\n",
            "    'pyomo.core.base.constraint.IndexedConstraint'>). This is usually\n",
            "    indicative of a modelling error. To avoid this warning, use\n",
            "    block.del_component() and block.add_component().\n",
            "0.5*X[G1,C1] + 1.7*X[G1,C2] + 2.1*X[G1,C3]  <=  0.8*(X[G1,C1] + X[G1,C2] + X[G1,C3])\n",
            "0.5*X[G2,C1] + 1.7*X[G2,C2] + 2.1*X[G2,C3]  <=  1.4*(X[G2,C1] + X[G2,C2] + X[G2,C3])\n",
            "0.5*X[G3,C1] + 1.7*X[G3,C2] + 2.1*X[G3,C3]  <=  1.8*(X[G3,C1] + X[G3,C2] + X[G3,C3])\n"
          ]
        }
      ]
    },
    {
      "cell_type": "code",
      "metadata": {
        "id": "AESHVNAa9-aw",
        "colab": {
          "base_uri": "https://localhost:8080/"
        },
        "outputId": "13d16601-6449-47a6-aa98-f0ad5402cb74"
      },
      "source": [
        "#Solve model\n",
        "results = opt.solve(model)\n",
        "\n",
        "#Print results\n",
        "print(\"Profit =\",model.profit())\n",
        "for g in model.G:\n",
        "  for c in model.C:\n",
        "    print(model.X[g,c],model.X[g,c].value)\n",
        "    print(model.Y[g],model.Y[g].value)"
      ],
      "execution_count": null,
      "outputs": [
        {
          "output_type": "stream",
          "name": "stdout",
          "text": [
            "Profit = 63165.0\n",
            "X[G1,C1] 1787.5\n",
            "Y[G1] 0.0\n",
            "X[G1,C2] 0.0\n",
            "Y[G1] 0.0\n",
            "X[G1,C3] 412.5\n",
            "Y[G1] 0.0\n",
            "X[G2,C1] 937.5\n",
            "Y[G2] 0.0\n",
            "X[G2,C2] 2812.5\n",
            "Y[G2] 0.0\n",
            "X[G2,C3] 0.0\n",
            "Y[G2] 0.0\n",
            "X[G3,C1] 775.0\n",
            "Y[G3] 285.0\n",
            "X[G3,C2] 2187.5\n",
            "Y[G3] 285.0\n",
            "X[G3,C3] 4087.5\n",
            "Y[G3] 285.0\n"
          ]
        }
      ]
    },
    {
      "cell_type": "code",
      "metadata": {
        "colab": {
          "base_uri": "https://localhost:8080/"
        },
        "id": "Tp45Zm3SVqi8",
        "outputId": "192a8705-851f-40cf-bf74-4eb3f6840bc9"
      },
      "source": [
        "if results.solver.status == 'ok':\n",
        "    model.pprint()"
      ],
      "execution_count": null,
      "outputs": [
        {
          "output_type": "stream",
          "name": "stdout",
          "text": [
            "3 Set Declarations\n",
            "    C : Size=1, Index=None, Ordered=Insertion\n",
            "        Key  : Dimen : Domain : Size : Members\n",
            "        None :     1 :    Any :    3 : {'C1', 'C2', 'C3'}\n",
            "    G : Size=1, Index=None, Ordered=Insertion\n",
            "        Key  : Dimen : Domain : Size : Members\n",
            "        None :     1 :    Any :    3 : {'G1', 'G2', 'G3'}\n",
            "    X_index : Size=1, Index=None, Ordered=True\n",
            "        Key  : Dimen : Domain : Size : Members\n",
            "        None :     2 :    G*C :    9 : {('G1', 'C1'), ('G1', 'C2'), ('G1', 'C3'), ('G2', 'C1'), ('G2', 'C2'), ('G2', 'C3'), ('G3', 'C1'), ('G3', 'C2'), ('G3', 'C3')}\n",
            "\n",
            "8 Param Declarations\n",
            "    D : Size=3, Index=G, Domain=Any, Default=None, Mutable=False\n",
            "        Key : Value\n",
            "         G1 :  2200\n",
            "         G2 :  3750\n",
            "         G3 :  4200\n",
            "    E : Size=3, Index=C, Domain=Any, Default=None, Mutable=False\n",
            "        Key : Value\n",
            "         C1 :  3500\n",
            "         C2 :  5000\n",
            "         C3 :  6000\n",
            "    H : Size=3, Index=G, Domain=Any, Default=None, Mutable=False\n",
            "        Key : Value\n",
            "         G1 :    91\n",
            "         G2 :    89\n",
            "         G3 :    87\n",
            "    J : Size=3, Index=C, Domain=Any, Default=None, Mutable=False\n",
            "        Key : Value\n",
            "         C1 :    93\n",
            "         C2 :    89\n",
            "         C3 :    85\n",
            "    K : Size=3, Index=G, Domain=Any, Default=None, Mutable=False\n",
            "        Key : Value\n",
            "         G1 :   0.8\n",
            "         G2 :   1.4\n",
            "         G3 :   1.8\n",
            "    M : Size=3, Index=C, Domain=Any, Default=None, Mutable=False\n",
            "        Key : Value\n",
            "         C1 :   0.5\n",
            "         C2 :   1.7\n",
            "         C3 :   2.1\n",
            "    P : Size=3, Index=C, Domain=Any, Default=None, Mutable=False\n",
            "        Key : Value\n",
            "         C1 :    70\n",
            "         C2 :    62\n",
            "         C3 :    57\n",
            "    S : Size=3, Index=G, Domain=Any, Default=None, Mutable=False\n",
            "        Key : Value\n",
            "         G1 :    79\n",
            "         G2 :    73\n",
            "         G3 :    68\n",
            "\n",
            "2 Var Declarations\n",
            "    X : Size=9, Index=X_index\n",
            "        Key          : Lower : Value  : Upper : Fixed : Stale : Domain\n",
            "        ('G1', 'C1') :     0 : 1787.5 :  None : False : False : NonNegativeReals\n",
            "        ('G1', 'C2') :     0 :    0.0 :  None : False : False : NonNegativeReals\n",
            "        ('G1', 'C3') :     0 :  412.5 :  None : False : False : NonNegativeReals\n",
            "        ('G2', 'C1') :     0 :  937.5 :  None : False : False : NonNegativeReals\n",
            "        ('G2', 'C2') :     0 : 2812.5 :  None : False : False : NonNegativeReals\n",
            "        ('G2', 'C3') :     0 :    0.0 :  None : False : False : NonNegativeReals\n",
            "        ('G3', 'C1') :     0 :  775.0 :  None : False : False : NonNegativeReals\n",
            "        ('G3', 'C2') :     0 : 2187.5 :  None : False : False : NonNegativeReals\n",
            "        ('G3', 'C3') :     0 : 4087.5 :  None : False : False : NonNegativeReals\n",
            "    Y : Size=3, Index=G\n",
            "        Key : Lower : Value : Upper : Fixed : Stale : Domain\n",
            "         G1 :     0 :   0.0 :  None : False : False : NonNegativeReals\n",
            "         G2 :     0 :   0.0 :  None : False : False : NonNegativeReals\n",
            "         G3 :     0 : 285.0 :  None : False : False : NonNegativeReals\n",
            "\n",
            "1 Objective Declarations\n",
            "    profit : Size=1, Index=None, Active=True\n",
            "        Key  : Active : Sense    : Expression\n",
            "        None :   True : maximize : 5*X[G1,C1] - X[G2,C1] - 6*X[G3,C1] + 13*X[G1,C2] + 7*X[G2,C2] + 2*X[G3,C2] + 18*X[G1,C3] + 12*X[G2,C3] + 7*X[G3,C3] - (Y[G1] + Y[G2] + Y[G3])\n",
            "\n",
            "3 Constraint Declarations\n",
            "    demand : Size=3, Index=G, Active=True\n",
            "        Key : Lower : Body                                               : Upper : Active\n",
            "         G1 :   0.0 : X[G1,C1] + X[G1,C2] + X[G1,C3] - (2200 + 10*Y[G1]) :   0.0 :   True\n",
            "         G2 :   0.0 : X[G2,C1] + X[G2,C2] + X[G2,C3] - (3750 + 10*Y[G2]) :   0.0 :   True\n",
            "         G3 :   0.0 : X[G3,C1] + X[G3,C2] + X[G3,C3] - (4200 + 10*Y[G3]) :   0.0 :   True\n",
            "    octanegasoline : Size=3, Index=G, Active=True\n",
            "        Key : Lower : Body                                                                              : Upper : Active\n",
            "         G1 :  -Inf : 0.5*X[G1,C1] + 1.7*X[G1,C2] + 2.1*X[G1,C3] - 0.8*(X[G1,C1] + X[G1,C2] + X[G1,C3]) :   0.0 :   True\n",
            "         G2 :  -Inf : 0.5*X[G2,C1] + 1.7*X[G2,C2] + 2.1*X[G2,C3] - 1.4*(X[G2,C1] + X[G2,C2] + X[G2,C3]) :   0.0 :   True\n",
            "         G3 :  -Inf : 0.5*X[G3,C1] + 1.7*X[G3,C2] + 2.1*X[G3,C3] - 1.8*(X[G3,C1] + X[G3,C2] + X[G3,C3]) :   0.0 :   True\n",
            "    purchaselim : Size=3, Index=C, Active=True\n",
            "        Key : Lower : Body                           : Upper  : Active\n",
            "         C1 :  -Inf : X[G1,C1] + X[G2,C1] + X[G3,C1] : 3500.0 :   True\n",
            "         C2 :  -Inf : X[G1,C2] + X[G2,C2] + X[G3,C2] : 5000.0 :   True\n",
            "         C3 :  -Inf : X[G1,C3] + X[G2,C3] + X[G3,C3] : 6000.0 :   True\n",
            "\n",
            "17 Declarations: G C P S D E H J K M X_index X Y profit demand purchaselim octanegasoline\n"
          ]
        }
      ]
    },
    {
      "cell_type": "code",
      "metadata": {
        "id": "ynUYb6PLUv1Q"
      },
      "source": [
        "# GETTING SHADOW PRICES\n",
        "model.dual=Suffix(direction=Suffix.IMPORT)"
      ],
      "execution_count": null,
      "outputs": []
    },
    {
      "cell_type": "code",
      "metadata": {
        "colab": {
          "base_uri": "https://localhost:8080/"
        },
        "id": "i7jtiDfoVOt-",
        "outputId": "eb51dd35-3554-453a-ed75-ff5c577ca3ed"
      },
      "source": [
        "#getting shadow price\n",
        "results = opt.solve(model)\n",
        "print (\"Shadow Prices\")\n",
        "model.dual.pprint()"
      ],
      "execution_count": null,
      "outputs": [
        {
          "output_type": "stream",
          "name": "stdout",
          "text": [
            "Shadow Prices\n",
            "dual : Direction=Suffix.IMPORT, Datatype=Suffix.FLOAT\n",
            "    Key                : Value\n",
            "            demand[G1] : -11.9\n",
            "            demand[G2] :  -4.1\n",
            "            demand[G3] :   0.1\n",
            "    octanegasoline[G1] :  23.0\n",
            "    octanegasoline[G2] :  23.0\n",
            "    octanegasoline[G3] :  23.0\n",
            "       purchaselim[C1] :  23.8\n",
            "       purchaselim[C2] :   4.2\n",
            "       purchaselim[C3] :   0.0\n"
          ]
        }
      ]
    }
  ]
}